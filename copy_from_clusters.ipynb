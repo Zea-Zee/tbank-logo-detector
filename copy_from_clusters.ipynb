{
 "cells": [
  {
   "cell_type": "code",
   "execution_count": 1,
   "id": "bad58d01",
   "metadata": {},
   "outputs": [],
   "source": [
    "import os\n",
    "import re\n",
    "import random\n",
    "import shutil\n",
    "from pathlib import Path"
   ]
  },
  {
   "cell_type": "code",
   "execution_count": 3,
   "id": "12e2e1e3",
   "metadata": {},
   "outputs": [
    {
     "name": "stdout",
     "output_type": "stream",
     "text": [
      "Нашёл 54 кластеров для выборки\n",
      "✅ Скопировано 324 картинок в negative_train\n"
     ]
    }
   ],
   "source": [
    "def collect_negative_samples(cluster_root=\"clusterized_images\", out_dir=\"negative\", samples_per_cluster=10, exts=(\".jpg\", \".jpeg\", \".png\", \".bmp\", \".webp\")):\n",
    "    cluster_root = Path(cluster_root)\n",
    "    out_dir = Path(out_dir)\n",
    "    out_dir.mkdir(parents=True, exist_ok=True)\n",
    "\n",
    "    # только папки вида cluster_<число>\n",
    "    cluster_dirs = [d for d in cluster_root.iterdir() if d.is_dir() and re.fullmatch(r\"cluster_\\d+\", d.name)]\n",
    "\n",
    "    print(f\"Нашёл {len(cluster_dirs)} кластеров для выборки\")\n",
    "\n",
    "    counter = 0\n",
    "    for cluster_dir in cluster_dirs:\n",
    "        images = [f for f in cluster_dir.iterdir() if f.suffix.lower() in exts]\n",
    "        if not images:\n",
    "            continue\n",
    "\n",
    "        chosen = random.sample(images, min(samples_per_cluster, len(images)))\n",
    "\n",
    "        for img in chosen:\n",
    "            dst = out_dir / f\"{cluster_dir.name}_{img.name}\"\n",
    "            try:\n",
    "                shutil.copy(img, dst)\n",
    "                counter += 1\n",
    "            except Exception as e:\n",
    "                print(f\"Ошибка при копировании {img}: {e}\")\n",
    "\n",
    "    print(f\"✅ Скопировано {counter} картинок в {out_dir}\")\n",
    "\n",
    "\n",
    "collect_negative_samples(\n",
    "    cluster_root=\"clusterized_images\",  # где лежат папки cluster_n\n",
    "    out_dir=\"negative_train\",                 # куда складывать\n",
    "    samples_per_cluster=6              # сколько брать из каждой\n",
    ")\n"
   ]
  },
  {
   "cell_type": "code",
   "execution_count": null,
   "id": "cdf8eb0b",
   "metadata": {},
   "outputs": [],
   "source": []
  }
 ],
 "metadata": {
  "kernelspec": {
   "display_name": ".venv",
   "language": "python",
   "name": "python3"
  },
  "language_info": {
   "codemirror_mode": {
    "name": "ipython",
    "version": 3
   },
   "file_extension": ".py",
   "mimetype": "text/x-python",
   "name": "python",
   "nbconvert_exporter": "python",
   "pygments_lexer": "ipython3",
   "version": "3.12.3"
  }
 },
 "nbformat": 4,
 "nbformat_minor": 5
}

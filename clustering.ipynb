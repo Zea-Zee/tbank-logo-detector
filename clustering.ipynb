{
 "cells": [
  {
   "cell_type": "code",
   "execution_count": 1,
   "id": "028c963b",
   "metadata": {},
   "outputs": [
    {
     "name": "stderr",
     "output_type": "stream",
     "text": [
      "c:\\Users\\kuzga\\OneDrive\\Рабочий стол\\CV_case_tbanc\\.venv\\Lib\\site-packages\\tqdm\\auto.py:21: TqdmWarning: IProgress not found. Please update jupyter and ipywidgets. See https://ipywidgets.readthedocs.io/en/stable/user_install.html\n",
      "  from .autonotebook import tqdm as notebook_tqdm\n"
     ]
    }
   ],
   "source": [
    "import os\n",
    "from pathlib import Path\n",
    "import numpy as np\n",
    "import torch\n",
    "import clip\n",
    "from PIL import Image\n",
    "from tqdm import tqdm\n",
    "import pandas as pd\n",
    "from sklearn.decomposition import PCA\n",
    "import umap\n",
    "import matplotlib.pyplot as plt\n",
    "import hdbscan\n",
    "import shutil\n",
    "import random"
   ]
  },
  {
   "cell_type": "code",
   "execution_count": 2,
   "id": "1a1c221e",
   "metadata": {},
   "outputs": [
    {
     "name": "stdout",
     "output_type": "stream",
     "text": [
      "Найдено 30019 уникальных изображений\n"
     ]
    }
   ],
   "source": [
    "def collect_images(folder_list, exts=(\".jpg\", \".jpeg\", \".png\", \".bmp\", \".webp\")):\n",
    "    files = {}\n",
    "    for folder in folder_list:\n",
    "        folder = Path(folder)\n",
    "        for f in folder.rglob(\"*\"):\n",
    "            if f.is_file() and f.suffix.lower() in exts:\n",
    "                key = f.stem.lower()  # имя файла без расширения\n",
    "                if key not in files:  # сохраняем только первую встреченную копию\n",
    "                    files[key] = str(f)\n",
    "    return list(files.values())\n",
    "\n",
    "\n",
    "# 🔹 Пример использования\n",
    "input_folders = [\n",
    "    r\"C:\\Users\\kuzga\\OneDrive\\Рабочий стол\\CV_case_tbanc\\data_sirius\",\n",
    "    r\"C:\\Users\\kuzga\\OneDrive\\Рабочий стол\\CV_case_tbanc\\project_x-6\",\n",
    "]\n",
    "image_paths = collect_images(input_folders)\n",
    "print(f\"Найдено {len(image_paths)} уникальных изображений\")\n"
   ]
  },
  {
   "cell_type": "code",
   "execution_count": 3,
   "id": "0315cd0b",
   "metadata": {},
   "outputs": [
    {
     "name": "stderr",
     "output_type": "stream",
     "text": [
      "Extracting CLIP embeddings: 100%|██████████| 30019/30019 [11:31<00:00, 43.40it/s]\n"
     ]
    }
   ],
   "source": [
    "def build_embeddings(image_paths, device=\"cuda\"):\n",
    "    model, preprocess = clip.load(\"ViT-B/32\", device=device)\n",
    "    embeddings = []\n",
    "\n",
    "    for path in tqdm(image_paths, desc=\"Extracting CLIP embeddings\"):\n",
    "        try:\n",
    "            img = preprocess(Image.open(path).convert(\"RGB\")).unsqueeze(0).to(device)\n",
    "            with torch.no_grad():\n",
    "                emb = model.encode_image(img).cpu().numpy()\n",
    "            embeddings.append(emb)\n",
    "        except Exception as e:\n",
    "            print(f\"Error with {path}: {e}\")\n",
    "            embeddings.append(np.zeros((1, 512)))\n",
    "    return np.vstack(embeddings)\n",
    "\n",
    "\n",
    "embeddings = build_embeddings(image_paths, device=\"cuda\")"
   ]
  },
  {
   "cell_type": "code",
   "execution_count": 4,
   "id": "25142133",
   "metadata": {},
   "outputs": [
    {
     "name": "stderr",
     "output_type": "stream",
     "text": [
      "c:\\Users\\kuzga\\OneDrive\\Рабочий стол\\CV_case_tbanc\\.venv\\Lib\\site-packages\\sklearn\\utils\\deprecation.py:132: FutureWarning: 'force_all_finite' was renamed to 'ensure_all_finite' in 1.6 and will be removed in 1.8.\n",
      "  warnings.warn(\n",
      "c:\\Users\\kuzga\\OneDrive\\Рабочий стол\\CV_case_tbanc\\.venv\\Lib\\site-packages\\sklearn\\utils\\deprecation.py:132: FutureWarning: 'force_all_finite' was renamed to 'ensure_all_finite' in 1.6 and will be removed in 1.8.\n",
      "  warnings.warn(\n"
     ]
    }
   ],
   "source": [
    "def cluster_embeddings(embeddings, pca_dim=50, min_cluster_size=20):\n",
    "    # PCA для сжатия\n",
    "    X_reduced = PCA(n_components=pca_dim).fit_transform(embeddings)\n",
    "\n",
    "    # HDBSCAN для адаптивного числа кластеров\n",
    "    clusterer = hdbscan.HDBSCAN(\n",
    "        min_cluster_size=min_cluster_size,\n",
    "        metric=\"euclidean\"\n",
    "    )\n",
    "    labels = clusterer.fit_predict(X_reduced)\n",
    "\n",
    "    return labels, X_reduced\n",
    "\n",
    "labels, X_reduced = cluster_embeddings(embeddings, pca_dim=50, min_cluster_size=20)"
   ]
  },
  {
   "cell_type": "code",
   "execution_count": 5,
   "id": "0008602d",
   "metadata": {},
   "outputs": [
    {
     "name": "stderr",
     "output_type": "stream",
     "text": [
      "c:\\Users\\kuzga\\OneDrive\\Рабочий стол\\CV_case_tbanc\\.venv\\Lib\\site-packages\\umap\\umap_.py:1952: UserWarning: n_jobs value 1 overridden to 1 by setting random_state. Use no seed for parallelism.\n",
      "  warn(\n"
     ]
    },
    {
     "data": {
      "text/plain": [
       "array([[-3.5450575, 10.450406 ],\n",
       "       [13.556788 , 12.989753 ],\n",
       "       [11.608732 , 15.289379 ],\n",
       "       ...,\n",
       "       [ 6.6778045, 17.796019 ],\n",
       "       [ 6.5340757, 17.54287  ],\n",
       "       [ 7.7417636,  7.302668 ]], shape=(30019, 2), dtype=float32)"
      ]
     },
     "execution_count": 5,
     "metadata": {},
     "output_type": "execute_result"
    }
   ],
   "source": [
    "def visualize_clusters(X_reduced, labels, out_path=\"clusters_umap.png\"):\n",
    "    reducer = umap.UMAP(n_components=2, random_state=42)\n",
    "    X_2d = reducer.fit_transform(X_reduced)\n",
    "\n",
    "    plt.figure(figsize=(10, 8))\n",
    "    plt.scatter(X_2d[:, 0], X_2d[:, 1], c=labels, s=5, cmap=\"Spectral\")\n",
    "    plt.colorbar()\n",
    "    plt.title(\"Image clusters (UMAP + HDBSCAN)\")\n",
    "    plt.savefig(out_path, dpi=200)\n",
    "    plt.close()\n",
    "    return X_2d\n",
    "\n",
    "visualize_clusters(X_reduced, labels, out_path=\"clusters_umap.png\")"
   ]
  },
  {
   "cell_type": "code",
   "execution_count": 6,
   "id": "23a66f89",
   "metadata": {},
   "outputs": [],
   "source": [
    "def save_clusters(image_paths, labels, out_dir=\"clusterized_images\"):\n",
    "    os.makedirs(out_dir, exist_ok=True)\n",
    "    for i, (path, label) in enumerate(zip(image_paths, labels)):\n",
    "        cluster_folder = Path(out_dir) / f\"cluster_{label}\"\n",
    "        cluster_folder.mkdir(parents=True, exist_ok=True)\n",
    "        try:\n",
    "            shutil.copy(path, cluster_folder / f\"{i}_{Path(path).name}\")\n",
    "        except Exception as e:\n",
    "            print(f\"Copy error: {path} -> {e}\")\n",
    "\n",
    "save_clusters(image_paths, labels, out_dir=\"clusterized_images\")"
   ]
  },
  {
   "cell_type": "code",
   "execution_count": 7,
   "id": "f322caa9",
   "metadata": {},
   "outputs": [],
   "source": [
    "def show_cluster_samples(image_paths, labels, samples_per_cluster=4, out_path=\"cluster_samples.png\"):\n",
    "    df = pd.DataFrame({\"path\": image_paths, \"cluster\": labels})\n",
    "    unique_clusters = sorted(df[\"cluster\"].unique())\n",
    "\n",
    "    n_clusters = len(unique_clusters)\n",
    "    fig, axes = plt.subplots(n_clusters, samples_per_cluster, figsize=(samples_per_cluster * 3, n_clusters * 3))\n",
    "\n",
    "    if n_clusters == 1:\n",
    "        axes = [axes]  # если всего один кластер\n",
    "\n",
    "    for row, cluster_id in enumerate(unique_clusters):\n",
    "        cluster_images = df[df[\"cluster\"] == cluster_id][\"path\"].tolist()\n",
    "        chosen = random.sample(cluster_images, min(samples_per_cluster, len(cluster_images)))\n",
    "\n",
    "        for col in range(samples_per_cluster):\n",
    "            ax = axes[row][col] if n_clusters > 1 else axes[col]\n",
    "            ax.axis(\"off\")\n",
    "\n",
    "            if col < len(chosen):\n",
    "                img = Image.open(chosen[col]).convert(\"RGB\")\n",
    "                ax.imshow(img)\n",
    "            else:\n",
    "                ax.imshow(np.ones((10, 10, 3)))  # пустая заглушка\n",
    "\n",
    "        # Название кластера над строкой\n",
    "        fig.text(0.5, 1 - (row + 0.5) / n_clusters, f\"Cluster {cluster_id}\",\n",
    "                 ha=\"center\", va=\"center\", fontsize=12, weight=\"bold\")\n",
    "\n",
    "    plt.tight_layout()\n",
    "    plt.savefig(out_path, dpi=200)\n",
    "    plt.close()\n",
    "\n",
    "show_cluster_samples(image_paths, labels, samples_per_cluster=4, out_path=\"cluster_samples.png\")"
   ]
  }
 ],
 "metadata": {
  "kernelspec": {
   "display_name": ".venv",
   "language": "python",
   "name": "python3"
  },
  "language_info": {
   "codemirror_mode": {
    "name": "ipython",
    "version": 3
   },
   "file_extension": ".py",
   "mimetype": "text/x-python",
   "name": "python",
   "nbconvert_exporter": "python",
   "pygments_lexer": "ipython3",
   "version": "3.12.3"
  }
 },
 "nbformat": 4,
 "nbformat_minor": 5
}

{
 "cells": [
  {
   "cell_type": "code",
   "execution_count": null,
   "id": "028c963b",
   "metadata": {},
   "outputs": [],
   "source": [
    "import os\n",
    "from pathlib import Path\n",
    "import numpy as np\n",
    "import torch\n",
    "import clip\n",
    "from PIL import Image\n",
    "from tqdm import tqdm\n",
    "import pandas as pd\n",
    "from sklearn.decomposition import PCA\n",
    "import umap\n",
    "import matplotlib.pyplot as plt\n",
    "import hdbscan\n",
    "import shutil\n",
    "import random\n",
    "import timm\n",
    "from torchvision import transforms"
   ]
  },
  {
   "cell_type": "code",
   "execution_count": null,
   "id": "1a1c221e",
   "metadata": {},
   "outputs": [],
   "source": [
    "def collect_images(folder_list, exts=(\".jpg\", \".jpeg\", \".png\", \".bmp\", \".webp\")):\n",
    "    files = {}\n",
    "    for folder in folder_list:\n",
    "        folder = Path(folder)\n",
    "        for f in folder.rglob(\"*\"):\n",
    "            if f.is_file() and f.suffix.lower() in exts:\n",
    "                key = f.stem.lower()\n",
    "                if key not in files:\n",
    "                    files[key] = str(f)\n",
    "    return list(files.values())\n",
    "\n",
    "\n",
    "input_folders = [\n",
    "    r\"C:\\Users\\kuzga\\OneDrive\\Рабочий стол\\CV_case_tbanc\\data_sirius\",\n",
    "    r\"C:\\Users\\kuzga\\OneDrive\\Рабочий стол\\CV_case_tbanc\\project_x-6\",\n",
    "]\n",
    "image_paths = collect_images(input_folders)\n",
    "print(f\"Найдено {len(image_paths)} уникальных изображений\")\n"
   ]
  },
  {
   "cell_type": "code",
   "execution_count": null,
   "id": "0315cd0b",
   "metadata": {},
   "outputs": [],
   "source": [
    "def build_embeddings(image_paths, device=\"cuda\"):\n",
    "    model, preprocess = clip.load(\"ViT-B/32\", device=device)\n",
    "    embeddings = []\n",
    "\n",
    "    for path in tqdm(image_paths, desc=\"Extracting CLIP embeddings\"):\n",
    "        try:\n",
    "            img = preprocess(Image.open(path).convert(\"RGB\")).unsqueeze(0).to(device)\n",
    "            with torch.no_grad():\n",
    "                emb = model.encode_image(img).cpu().numpy()\n",
    "            embeddings.append(emb)\n",
    "        except Exception as e:\n",
    "            print(f\"Error with {path}: {e}\")\n",
    "            embeddings.append(np.zeros((1, 512)))\n",
    "    return np.vstack(embeddings)\n",
    "\n",
    "\n",
    "embeddings = build_embeddings(image_paths, device=\"cuda\")"
   ]
  },
  {
   "cell_type": "code",
   "execution_count": null,
   "id": "25142133",
   "metadata": {},
   "outputs": [],
   "source": [
    "def cluster_embeddings(embeddings, pca_dim=50, min_cluster_size=20):\n",
    "    X_reduced = PCA(n_components=pca_dim).fit_transform(embeddings)\n",
    "    # X_reduced = PCA(n_components=0.9).fit_transform(embeddings)\n",
    "    clusterer = hdbscan.HDBSCAN(\n",
    "        min_cluster_size=min_cluster_size,\n",
    "        metric=\"euclidean\"\n",
    "    )\n",
    "    labels = clusterer.fit_predict(X_reduced)\n",
    "\n",
    "    return labels, X_reduced\n",
    "\n",
    "labels, X_reduced = cluster_embeddings(embeddings, pca_dim=50, min_cluster_size=20)"
   ]
  },
  {
   "cell_type": "code",
   "execution_count": null,
   "id": "0008602d",
   "metadata": {},
   "outputs": [],
   "source": [
    "def visualize_clusters(X_reduced, labels, out_path):\n",
    "    reducer = umap.UMAP(n_components=2, random_state=42)\n",
    "    X_2d = reducer.fit_transform(X_reduced)\n",
    "\n",
    "    plt.figure(figsize=(10, 8))\n",
    "    plt.scatter(X_2d[:, 0], X_2d[:, 1], c=labels, s=5, cmap=\"Spectral\")\n",
    "    plt.colorbar()\n",
    "    plt.title(\"Image clusters (UMAP + HDBSCAN)\")\n",
    "    plt.savefig(out_path, dpi=200)\n",
    "    plt.close()\n",
    "    return X_2d\n",
    "\n",
    "visualize_clusters(X_reduced, labels, out_path=\"clusters_umap_dinov2.png\")"
   ]
  },
  {
   "cell_type": "code",
   "execution_count": null,
   "id": "23a66f89",
   "metadata": {},
   "outputs": [],
   "source": [
    "def save_clusters(image_paths, labels, out_dir=\"clusterized_images\"):\n",
    "    os.makedirs(out_dir, exist_ok=True)\n",
    "    for i, (path, label) in enumerate(zip(image_paths, labels)):\n",
    "        cluster_folder = Path(out_dir) / f\"cluster_{label}\"\n",
    "        cluster_folder.mkdir(parents=True, exist_ok=True)\n",
    "        try:\n",
    "            shutil.copy(path, cluster_folder / f\"{i}_{Path(path).name}\")\n",
    "        except Exception as e:\n",
    "            print(f\"Copy error: {path} -> {e}\")\n",
    "\n",
    "save_clusters(image_paths, labels, out_dir=\"clusterized_images_dino\")"
   ]
  },
  {
   "cell_type": "code",
   "execution_count": null,
   "id": "f322caa9",
   "metadata": {},
   "outputs": [],
   "source": [
    "def show_cluster_samples(image_paths, labels, samples_per_cluster, out_path):\n",
    "    df = pd.DataFrame({\"path\": image_paths, \"cluster\": labels})\n",
    "    unique_clusters = sorted(df[\"cluster\"].unique())\n",
    "\n",
    "    n_clusters = len(unique_clusters)\n",
    "    fig, axes = plt.subplots(n_clusters, samples_per_cluster, figsize=(samples_per_cluster * 3, n_clusters * 3))\n",
    "\n",
    "    if n_clusters == 1:\n",
    "        axes = [axes]\n",
    "\n",
    "    for row, cluster_id in enumerate(unique_clusters):\n",
    "        cluster_images = df[df[\"cluster\"] == cluster_id][\"path\"].tolist()\n",
    "        chosen = random.sample(cluster_images, min(samples_per_cluster, len(cluster_images)))\n",
    "\n",
    "        for col in range(samples_per_cluster):\n",
    "            ax = axes[row][col] if n_clusters > 1 else axes[col]\n",
    "            ax.axis(\"off\")\n",
    "\n",
    "            if col < len(chosen):\n",
    "                img = Image.open(chosen[col]).convert(\"RGB\")\n",
    "                ax.imshow(img)\n",
    "            else:\n",
    "                ax.imshow(np.ones((10, 10, 3)))\n",
    "\n",
    "        fig.text(0.5, 1 - (row + 0.5) / n_clusters, f\"Cluster {cluster_id}\",\n",
    "                 ha=\"center\", va=\"center\", fontsize=12, weight=\"bold\")\n",
    "\n",
    "    plt.tight_layout()\n",
    "    plt.savefig(out_path, dpi=200)\n",
    "    plt.close()\n",
    "\n",
    "show_cluster_samples(image_paths, labels, samples_per_cluster=4, out_path=\"cluster_samples_dinov2.png\")"
   ]
  }
 ],
 "metadata": {
  "kernelspec": {
   "display_name": ".venv",
   "language": "python",
   "name": "python3"
  },
  "language_info": {
   "codemirror_mode": {
    "name": "ipython",
    "version": 3
   },
   "file_extension": ".py",
   "mimetype": "text/x-python",
   "name": "python",
   "nbconvert_exporter": "python",
   "pygments_lexer": "ipython3",
   "version": "3.12.3"
  }
 },
 "nbformat": 4,
 "nbformat_minor": 5
}
